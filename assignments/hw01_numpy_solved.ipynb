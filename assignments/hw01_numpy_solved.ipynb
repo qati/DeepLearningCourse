{
 "cells": [
  {
   "cell_type": "code",
   "execution_count": 5,
   "metadata": {
    "collapsed": true
   },
   "outputs": [],
   "source": [
    "import numpy as np"
   ]
  },
  {
   "cell_type": "markdown",
   "metadata": {},
   "source": [
    "### Create a columns vector full of zeros! [hint](https://docs.scipy.org/doc/numpy/reference/generated/numpy.zeros.html)"
   ]
  },
  {
   "cell_type": "code",
   "execution_count": 6,
   "metadata": {
    "collapsed": false
   },
   "outputs": [],
   "source": [
    "def graded_zero_vector(length):\n",
    "    ### Start code here\n",
    "    zeroVec = np.zeros((length,1))\n",
    "    ### End code here\n",
    "    return(zeroVec)"
   ]
  },
  {
   "cell_type": "code",
   "execution_count": 7,
   "metadata": {
    "collapsed": false
   },
   "outputs": [
    {
     "name": "stdout",
     "output_type": "stream",
     "text": [
      "('Shape:', (50, 1))\n",
      "('Shape:', (123, 1))\n"
     ]
    }
   ],
   "source": [
    "print('Shape:', graded_zero_vector(50).shape)\n",
    "print('Shape:', graded_zero_vector(123).shape)"
   ]
  },
  {
   "cell_type": "markdown",
   "metadata": {},
   "source": [
    "**Expected results:**  \n",
    "Shape: (50,1)  \n",
    "Shape: (123,1)"
   ]
  },
  {
   "cell_type": "markdown",
   "metadata": {},
   "source": [
    "### Create a vector for that vec_i = i!.  [hint](https://docs.scipy.org/doc/numpy/reference/generated/numpy.linspace.html)"
   ]
  },
  {
   "cell_type": "code",
   "execution_count": 14,
   "metadata": {
    "collapsed": false
   },
   "outputs": [],
   "source": [
    "def graded_vec_i(length):\n",
    "    ### Start code here\n",
    "    vec = np.linspace(0,length-1,length)\n",
    "    ### End code here\n",
    "    return(vec)"
   ]
  },
  {
   "cell_type": "code",
   "execution_count": 15,
   "metadata": {
    "collapsed": false
   },
   "outputs": [
    {
     "name": "stdout",
     "output_type": "stream",
     "text": [
      "('Sum:', 45.0)\n",
      "('Vector:', array([ 0.,  1.,  2.,  3.,  4.,  5.,  6.,  7.,  8.,  9.]))\n"
     ]
    }
   ],
   "source": [
    "print('Sum:', sum(graded_vec_i(10)))\n",
    "print('Vector:', graded_vec_i(10))"
   ]
  },
  {
   "cell_type": "markdown",
   "metadata": {},
   "source": [
    "**Expected results:**  \n",
    "Sum: 45.0  \n",
    "Vector: [ 0.  1.  2.  3.  4.  5.  6.  7.  8.  9.]"
   ]
  },
  {
   "cell_type": "markdown",
   "metadata": {},
   "source": [
    "### Generate the 3 [Pauli matricies](https://en.wikipedia.org/wiki/Pauli_matrices) (each has a size of 2x2)!"
   ]
  },
  {
   "cell_type": "code",
   "execution_count": 20,
   "metadata": {
    "collapsed": true
   },
   "outputs": [],
   "source": [
    "def graded_generate_pauli():\n",
    "    ### Start code here\n",
    "    pauliX = np.array([[0.,1.], [1.,0.]])\n",
    "    pauliY = np.array([[0.,-1.j], [1.j,0.]])\n",
    "    pauliZ = np.array([[1.,0.], [0.,-1.]]) \n",
    "    ### End code here\n",
    "    return(pauliX, pauliY, pauliZ)"
   ]
  },
  {
   "cell_type": "code",
   "execution_count": 21,
   "metadata": {
    "collapsed": false
   },
   "outputs": [
    {
     "name": "stdout",
     "output_type": "stream",
     "text": [
      "('Pauli X:', array([[ 0.,  1.],\n",
      "       [ 1.,  0.]]))\n"
     ]
    }
   ],
   "source": [
    "print('Pauli X:', graded_generate_pauli()[0])"
   ]
  },
  {
   "cell_type": "markdown",
   "metadata": {},
   "source": [
    "**Expected results:**  \n",
    "Pauli X: [[ 0.  1.]  \n",
    "[ 1.  0.]]"
   ]
  },
  {
   "cell_type": "markdown",
   "metadata": {},
   "source": [
    "### Check if they are really Pauli!  \n",
    "#### First calculate their [determinant](https://docs.scipy.org/doc/numpy-1.12.0/reference/generated/numpy.linalg.det.html). Then their [square](https://docs.scipy.org/doc/numpy-1.12.0/reference/routines.linalg.html) and [trace](https://www.google.com/) (spur) too!"
   ]
  },
  {
   "cell_type": "code",
   "execution_count": 22,
   "metadata": {
    "collapsed": false
   },
   "outputs": [],
   "source": [
    "def graded_pauli_check(coordinate): # coordinate can be 'X', 'Y' or 'Z'    \n",
    "    coord_index_map = {'X':0, 'Y':1, 'Z':2}\n",
    "    pauli_index = coord_index_map[coordinate]\n",
    "    ### Start code here\n",
    "    \n",
    "    #retreive the corresponding Pauli matrix (use the function above)\n",
    "    pauliMatrix =  graded_generate_pauli()[pauli_index] \n",
    "    \n",
    "    # calculate its determinant\n",
    "    det = np.linalg.det(pauliMatrix) \n",
    "\n",
    "    # calculate its square\n",
    "    square = np.linalg.matrix_power(pauliMatrix, 2)\n",
    "\n",
    "    # calculate its trace\n",
    "    trace = np.trace(pauliMatrix) \n",
    "    ### End code here\n",
    "    return(det, square, trace)"
   ]
  },
  {
   "cell_type": "code",
   "execution_count": 23,
   "metadata": {
    "collapsed": false
   },
   "outputs": [
    {
     "name": "stdout",
     "output_type": "stream",
     "text": [
      "('Determinant:', (-1+0j))\n",
      "('Trace:', 0j)\n"
     ]
    }
   ],
   "source": [
    "print('Determinant:', graded_pauli_check('Y')[0])\n",
    "print('Trace:', graded_pauli_check('Y')[2])"
   ]
  },
  {
   "cell_type": "markdown",
   "metadata": {},
   "source": [
    "**Expected results:**  \n",
    "Determinant: (-1.0+0j)  \n",
    "Trace: 0j"
   ]
  },
  {
   "cell_type": "markdown",
   "metadata": {},
   "source": [
    "Great, you finished :)  \n",
    "**Don't forget to upload this notebook to your forked github repository with a name assignments/hw01_numpy_solved.ipynb.**"
   ]
  }
 ],
 "metadata": {
  "kernelspec": {
   "display_name": "Python 2",
   "language": "python",
   "name": "python2"
  },
  "language_info": {
   "codemirror_mode": {
    "name": "ipython",
    "version": 2
   },
   "file_extension": ".py",
   "mimetype": "text/x-python",
   "name": "python",
   "nbconvert_exporter": "python",
   "pygments_lexer": "ipython2",
   "version": "2.7.12"
  }
 },
 "nbformat": 4,
 "nbformat_minor": 2
}

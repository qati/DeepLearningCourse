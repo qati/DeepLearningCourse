{
 "cells": [
  {
   "cell_type": "code",
   "execution_count": 2,
   "metadata": {
    "collapsed": true
   },
   "outputs": [],
   "source": [
    "import numpy as np"
   ]
  },
  {
   "cell_type": "code",
   "execution_count": 3,
   "metadata": {
    "collapsed": true
   },
   "outputs": [],
   "source": [
    "def graded_zero_vector(length):\n",
    "    \n",
    "    zeroVec = np.zeros((length,1), dtype = int)\n",
    "    \n",
    "    return(zeroVec)"
   ]
  },
  {
   "cell_type": "code",
   "execution_count": 4,
   "metadata": {},
   "outputs": [
    {
     "name": "stdout",
     "output_type": "stream",
     "text": [
      "Shape: (50, 1)\n",
      "Shape: (123, 1)\n"
     ]
    }
   ],
   "source": [
    "print('Shape:', graded_zero_vector(50).shape)\n",
    "print('Shape:', graded_zero_vector(123).shape)    "
   ]
  },
  {
   "cell_type": "code",
   "execution_count": 5,
   "metadata": {
    "collapsed": true
   },
   "outputs": [],
   "source": [
    "def graded_vec_i(length):\n",
    "\n",
    "    vec = np.arange(length,dtype = float)\n",
    "\n",
    "    return(vec)"
   ]
  },
  {
   "cell_type": "code",
   "execution_count": 6,
   "metadata": {},
   "outputs": [
    {
     "name": "stdout",
     "output_type": "stream",
     "text": [
      "Sum: 45.0\n",
      "Vector: [ 0.  1.  2.  3.  4.  5.  6.  7.  8.  9.]\n"
     ]
    }
   ],
   "source": [
    "print('Sum:', sum(graded_vec_i(10)))\n",
    "print('Vector:', graded_vec_i(10))"
   ]
  },
  {
   "cell_type": "code",
   "execution_count": 7,
   "metadata": {
    "collapsed": true
   },
   "outputs": [],
   "source": [
    "def graded_generate_pauli():\n",
    "    ### Start code here\n",
    "    pauliX = np.array([[0,1],[1,0]]) \n",
    "    pauliY = np.array([[0,-1j],[1j,0]])\n",
    "    pauliZ = np.array([[1,0],[0,-1]])\n",
    "    ### End code here\n",
    "    return(pauliX, pauliY, pauliZ)"
   ]
  },
  {
   "cell_type": "code",
   "execution_count": 8,
   "metadata": {},
   "outputs": [
    {
     "name": "stdout",
     "output_type": "stream",
     "text": [
      "Pauli X: [[0 1]\n",
      " [1 0]]\n"
     ]
    }
   ],
   "source": [
    "print('Pauli X:', graded_generate_pauli()[0])"
   ]
  },
  {
   "cell_type": "code",
   "execution_count": 9,
   "metadata": {
    "collapsed": true
   },
   "outputs": [],
   "source": [
    "def graded_pauli_check(coordinate): # coordinate can be 'X', 'Y' or 'Z'    \n",
    "    coord_index_map = {'X':0, 'Y':1, 'Z':2}\n",
    "    pauli_index = coord_index_map[coordinate]\n",
    "    ### Start code here\n",
    "    \n",
    "    #retreive the corresponding Pauli matrix (use the function above)\n",
    "    pauliMatrix = graded_generate_pauli()[pauli_index]\n",
    "    \n",
    "    # calculate its determinant\n",
    "    det = np.linalg.det(pauliMatrix) \n",
    "\n",
    "    # calculate its square\n",
    "    square = np.dot(pauliMatrix,pauliMatrix)\n",
    "\n",
    "    # calculate its trace\n",
    "    trace = np.matrix.trace(pauliMatrix)\n",
    "    ### End code here\n",
    "    return(det, square, trace)    "
   ]
  },
  {
   "cell_type": "code",
   "execution_count": 10,
   "metadata": {},
   "outputs": [
    {
     "name": "stdout",
     "output_type": "stream",
     "text": [
      "Determinant: (-1+0j)\n",
      "Trace: 0j\n"
     ]
    }
   ],
   "source": [
    "print('Determinant:', graded_pauli_check('Y')[0])\n",
    "print('Trace:', graded_pauli_check('Y')[2])"
   ]
  }
 ],
 "metadata": {
  "kernelspec": {
   "display_name": "Python 3",
   "language": "python",
   "name": "python3"
  },
  "language_info": {
   "codemirror_mode": {
    "name": "ipython",
    "version": 3
   },
   "file_extension": ".py",
   "mimetype": "text/x-python",
   "name": "python",
   "nbconvert_exporter": "python",
   "pygments_lexer": "ipython3",
   "version": "3.5.4"
  },
  "widgets": {
   "state": {},
   "version": "1.1.2"
  }
 },
 "nbformat": 4,
 "nbformat_minor": 2
}
